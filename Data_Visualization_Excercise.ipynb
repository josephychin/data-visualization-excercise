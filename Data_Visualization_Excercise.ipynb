{
  "nbformat": 4,
  "nbformat_minor": 0,
  "metadata": {
    "colab": {
      "name": "Data Visualization Excercise.ipynb",
      "provenance": [],
      "collapsed_sections": [],
      "mount_file_id": "1IsWaaImZHbd-vCMmBrt-XvBJsxCvxULB",
      "authorship_tag": "ABX9TyOueGBK/P7Hnbya9pG1iohm",
      "include_colab_link": true
    },
    "kernelspec": {
      "name": "python3",
      "display_name": "Python 3"
    },
    "language_info": {
      "name": "python"
    }
  },
  "cells": [
    {
      "cell_type": "markdown",
      "metadata": {
        "id": "view-in-github",
        "colab_type": "text"
      },
      "source": [
        "<a href=\"https://colab.research.google.com/github/josephychin/data-visualization-excercise/blob/main/Data_Visualization_Excercise.ipynb\" target=\"_parent\"><img src=\"https://colab.research.google.com/assets/colab-badge.svg\" alt=\"Open In Colab\"/></a>"
      ]
    },
    {
      "cell_type": "markdown",
      "metadata": {
        "id": "gQrnZWNi41bn"
      },
      "source": [
        "Data Visualization Exercise\n",
        "\n",
        "Makeover Monday offers a weekly challenge to re-create or improve data visualizations. Your task is to choose one of the data visualizations to re-create or improve!\n",
        "\n",
        "To do this:\n",
        "\n",
        "Choose a data set from the Data Sets list. You can choose a recent data set or one from a previous year - as long as it interests you!\n",
        "\n",
        "Download the data that you chose.\n",
        "\n",
        "Use Python to create a visually appealing, informative visualization using the data you selected.\n",
        "\n",
        "You also need to put your work for this assignment on GitHub, so everyone can see the awesome visualization you created!\n",
        "\n",
        "To do this:\n",
        "\n",
        "Create a new GitHub repository with an informative name for your visualization or data. (Note: here are instructions on how to do this if you are unsure - make sure to check the box marked \"Initialize this repository with a README.\")\n",
        "\n",
        "Add your code to the GitHub repo you created. You can do this in Google Colab by selecting File > \"Save a Copy In GitHub\"\n",
        "\n",
        "Edit the README to create an informative overview of the exercise that explains the purpose of the task/visualization, the data, and what the visualization you made shows/tells you. You may even want to include a static image of your final visualization in the README as well! (Note: README's are markdown files. Here is a cheatsheet of markdown syntax.) Try to make this as informative and professional as possible, as this is the first thing people will see when they come to your GitHub repo!\n",
        "\n",
        "Once you are done, submit a link to your GitHub repo to turn in this assignment."
      ]
    },
    {
      "cell_type": "code",
      "metadata": {
        "colab": {
          "base_uri": "https://localhost:8080/"
        },
        "id": "-0PKiH-o42jM",
        "outputId": "9bf43867-6d40-44c2-c012-94138a08998a"
      },
      "source": [
        "from google.colab import drive\n",
        "drive.mount('/content/drive')"
      ],
      "execution_count": 156,
      "outputs": [
        {
          "output_type": "stream",
          "text": [
            "Drive already mounted at /content/drive; to attempt to forcibly remount, call drive.mount(\"/content/drive\", force_remount=True).\n"
          ],
          "name": "stdout"
        }
      ]
    },
    {
      "cell_type": "code",
      "metadata": {
        "id": "0hkos07MMqyl"
      },
      "source": [
        "import matplotlib.pyplot as plt\n",
        "import pandas as pd\n",
        "import numpy as np\n",
        "import seaborn as sns"
      ],
      "execution_count": 157,
      "outputs": []
    },
    {
      "cell_type": "code",
      "metadata": {
        "colab": {
          "base_uri": "https://localhost:8080/",
          "height": 796
        },
        "id": "0g81i4P_M1My",
        "outputId": "519cda29-fd85-485c-ea12-8210f3ba56ca"
      },
      "source": [
        "filename = '/content/drive/MyDrive/Coding Dojo/PandasForDataManipulation/Indian Coal Mines Dataset_January 2021-1.csv'\n",
        "df = pd.read_csv(filename, encoding= 'unicode_escape')\n",
        "df"
      ],
      "execution_count": 263,
      "outputs": [
        {
          "output_type": "execute_result",
          "data": {
            "text/html": [
              "<div>\n",
              "<style scoped>\n",
              "    .dataframe tbody tr th:only-of-type {\n",
              "        vertical-align: middle;\n",
              "    }\n",
              "\n",
              "    .dataframe tbody tr th {\n",
              "        vertical-align: top;\n",
              "    }\n",
              "\n",
              "    .dataframe thead th {\n",
              "        text-align: right;\n",
              "    }\n",
              "</style>\n",
              "<table border=\"1\" class=\"dataframe\">\n",
              "  <thead>\n",
              "    <tr style=\"text-align: right;\">\n",
              "      <th></th>\n",
              "      <th>SL No.</th>\n",
              "      <th>State/UT Name</th>\n",
              "      <th>District Name</th>\n",
              "      <th>Mine Name</th>\n",
              "      <th>Coal/ Lignite Production (MT) (2019-2020)</th>\n",
              "      <th>Coal Mine Owner Name</th>\n",
              "      <th>Coal/Lignite</th>\n",
              "      <th>Govt Owned/Private</th>\n",
              "      <th>Type of Mine (OC/UG/Mixed)</th>\n",
              "      <th>Latitude</th>\n",
              "      <th>Longitude</th>\n",
              "      <th>Source</th>\n",
              "      <th>Accuracy (exact vs approximate)</th>\n",
              "      <th>Unnamed: 13</th>\n",
              "    </tr>\n",
              "  </thead>\n",
              "  <tbody>\n",
              "    <tr>\n",
              "      <th>0</th>\n",
              "      <td>1</td>\n",
              "      <td>West Bengal</td>\n",
              "      <td>Paschim Bardhaman</td>\n",
              "      <td>Ningah Colliery</td>\n",
              "      <td>0.010000</td>\n",
              "      <td>ECL</td>\n",
              "      <td>Coal</td>\n",
              "      <td>G</td>\n",
              "      <td>UG</td>\n",
              "      <td>23.6743</td>\n",
              "      <td>87.0333</td>\n",
              "      <td>Google Maps: https://www.google.com/maps/place...</td>\n",
              "      <td>Exact</td>\n",
              "      <td>NaN</td>\n",
              "    </tr>\n",
              "    <tr>\n",
              "      <th>1</th>\n",
              "      <td>2</td>\n",
              "      <td>West Bengal</td>\n",
              "      <td>Paschim Bardhaman</td>\n",
              "      <td>Jhanjhara Project Colly</td>\n",
              "      <td>3.500000</td>\n",
              "      <td>ECL</td>\n",
              "      <td>Coal</td>\n",
              "      <td>G</td>\n",
              "      <td>UG</td>\n",
              "      <td>23.6680</td>\n",
              "      <td>87.2963</td>\n",
              "      <td>Google Maps: https://www.google.ca/maps/place/...</td>\n",
              "      <td>Exact</td>\n",
              "      <td>NaN</td>\n",
              "    </tr>\n",
              "    <tr>\n",
              "      <th>2</th>\n",
              "      <td>3</td>\n",
              "      <td>West Bengal</td>\n",
              "      <td>Paschim Bardhaman</td>\n",
              "      <td>MAOHUSUDANPUR 7 PIT &amp;\\nINCLINE</td>\n",
              "      <td>0.040000</td>\n",
              "      <td>ECL</td>\n",
              "      <td>Coal</td>\n",
              "      <td>G</td>\n",
              "      <td>UG</td>\n",
              "      <td>23.6338</td>\n",
              "      <td>87.2037</td>\n",
              "      <td>Google Maps: https://www.google.com/maps/place...</td>\n",
              "      <td>Approximate: Madhusudanpur Colliery Agent Office</td>\n",
              "      <td>NaN</td>\n",
              "    </tr>\n",
              "    <tr>\n",
              "      <th>3</th>\n",
              "      <td>4</td>\n",
              "      <td>West Bengal</td>\n",
              "      <td>Paschim Bardhaman</td>\n",
              "      <td>PARASCOLE(EAST)</td>\n",
              "      <td>0.100000</td>\n",
              "      <td>ECL</td>\n",
              "      <td>Coal</td>\n",
              "      <td>G</td>\n",
              "      <td>UG</td>\n",
              "      <td>23.6377</td>\n",
              "      <td>87.1951</td>\n",
              "      <td>Google Maps: https://www.google.com/maps/place...</td>\n",
              "      <td>Approximate: center coordinates of eastern Par...</td>\n",
              "      <td>NaN</td>\n",
              "    </tr>\n",
              "    <tr>\n",
              "      <th>4</th>\n",
              "      <td>5</td>\n",
              "      <td>West Bengal</td>\n",
              "      <td>Paschim Bardhaman</td>\n",
              "      <td>PARASCOLE(WEST)</td>\n",
              "      <td>0.070000</td>\n",
              "      <td>ECL</td>\n",
              "      <td>Coal</td>\n",
              "      <td>G</td>\n",
              "      <td>UG</td>\n",
              "      <td>23.6405</td>\n",
              "      <td>87.1855</td>\n",
              "      <td>Google Maps: https://www.google.com/maps/place...</td>\n",
              "      <td>Approximate: center coordinates of western Par...</td>\n",
              "      <td>NaN</td>\n",
              "    </tr>\n",
              "    <tr>\n",
              "      <th>...</th>\n",
              "      <td>...</td>\n",
              "      <td>...</td>\n",
              "      <td>...</td>\n",
              "      <td>...</td>\n",
              "      <td>...</td>\n",
              "      <td>...</td>\n",
              "      <td>...</td>\n",
              "      <td>...</td>\n",
              "      <td>...</td>\n",
              "      <td>...</td>\n",
              "      <td>...</td>\n",
              "      <td>...</td>\n",
              "      <td>...</td>\n",
              "      <td>...</td>\n",
              "    </tr>\n",
              "    <tr>\n",
              "      <th>454</th>\n",
              "      <td>455</td>\n",
              "      <td>Telangana</td>\n",
              "      <td>Peddapalli</td>\n",
              "      <td>GDK 1&amp;3 INC</td>\n",
              "      <td>0.214798</td>\n",
              "      <td>SCCL</td>\n",
              "      <td>Coal</td>\n",
              "      <td>SG</td>\n",
              "      <td>UG</td>\n",
              "      <td>18.0452</td>\n",
              "      <td>79.3025</td>\n",
              "      <td>Environmental clearance https://scclmines.com/...</td>\n",
              "      <td>Exact</td>\n",
              "      <td>NaN</td>\n",
              "    </tr>\n",
              "    <tr>\n",
              "      <th>455</th>\n",
              "      <td>456</td>\n",
              "      <td>Telangana</td>\n",
              "      <td>Peddapalli</td>\n",
              "      <td>GDK 2&amp;2A INC</td>\n",
              "      <td>0.283656</td>\n",
              "      <td>SCCL</td>\n",
              "      <td>Coal</td>\n",
              "      <td>SG</td>\n",
              "      <td>UG</td>\n",
              "      <td>18.4221</td>\n",
              "      <td>79.3111</td>\n",
              "      <td>Brief Summary SCCL: http://environmentclearanc...</td>\n",
              "      <td>Exact</td>\n",
              "      <td>NaN</td>\n",
              "    </tr>\n",
              "    <tr>\n",
              "      <th>456</th>\n",
              "      <td>457</td>\n",
              "      <td>Telangana</td>\n",
              "      <td>Peddapalli</td>\n",
              "      <td>GDK 5 INC</td>\n",
              "      <td>0.018202</td>\n",
              "      <td>SCCL</td>\n",
              "      <td>Coal</td>\n",
              "      <td>SG</td>\n",
              "      <td>UG</td>\n",
              "      <td>18.4545</td>\n",
              "      <td>79.3546</td>\n",
              "      <td>Brief Summary SCCL: http://environmentclearanc...</td>\n",
              "      <td>Exact</td>\n",
              "      <td>NaN</td>\n",
              "    </tr>\n",
              "    <tr>\n",
              "      <th>457</th>\n",
              "      <td>458</td>\n",
              "      <td>Telangana</td>\n",
              "      <td>Peddapalli</td>\n",
              "      <td>GDK 11 INC</td>\n",
              "      <td>0.804029</td>\n",
              "      <td>SCCL</td>\n",
              "      <td>Coal</td>\n",
              "      <td>SG</td>\n",
              "      <td>UG</td>\n",
              "      <td>18.4161</td>\n",
              "      <td>79.3258</td>\n",
              "      <td>Environmental clearance https://scclmines.com/...</td>\n",
              "      <td>Exact</td>\n",
              "      <td>NaN</td>\n",
              "    </tr>\n",
              "    <tr>\n",
              "      <th>458</th>\n",
              "      <td>459</td>\n",
              "      <td>Telangana</td>\n",
              "      <td>Peddapalli</td>\n",
              "      <td>GDK 10 INC</td>\n",
              "      <td>0.019551</td>\n",
              "      <td>SCCL</td>\n",
              "      <td>Coal</td>\n",
              "      <td>SG</td>\n",
              "      <td>UG</td>\n",
              "      <td>18.3915</td>\n",
              "      <td>79.3345</td>\n",
              "      <td>Environmental Clearance https://scclmines.com/...</td>\n",
              "      <td>Exact</td>\n",
              "      <td>NaN</td>\n",
              "    </tr>\n",
              "  </tbody>\n",
              "</table>\n",
              "<p>459 rows × 14 columns</p>\n",
              "</div>"
            ],
            "text/plain": [
              "     SL No.  ... Unnamed: 13\n",
              "0         1  ...         NaN\n",
              "1         2  ...         NaN\n",
              "2         3  ...         NaN\n",
              "3         4  ...         NaN\n",
              "4         5  ...         NaN\n",
              "..      ...  ...         ...\n",
              "454     455  ...         NaN\n",
              "455     456  ...         NaN\n",
              "456     457  ...         NaN\n",
              "457     458  ...         NaN\n",
              "458     459  ...         NaN\n",
              "\n",
              "[459 rows x 14 columns]"
            ]
          },
          "metadata": {
            "tags": []
          },
          "execution_count": 263
        }
      ]
    },
    {
      "cell_type": "code",
      "metadata": {
        "colab": {
          "base_uri": "https://localhost:8080/",
          "height": 452
        },
        "id": "LTrs1sEGth41",
        "outputId": "053e5dbb-e60f-431c-d7d7-5e082c61aaae"
      },
      "source": [
        "stateSLNoSum = df.groupby(['State/UT Name'],sort=False)[['SL No.']].count()\n",
        "stateSLNoSum"
      ],
      "execution_count": 264,
      "outputs": [
        {
          "output_type": "execute_result",
          "data": {
            "text/html": [
              "<div>\n",
              "<style scoped>\n",
              "    .dataframe tbody tr th:only-of-type {\n",
              "        vertical-align: middle;\n",
              "    }\n",
              "\n",
              "    .dataframe tbody tr th {\n",
              "        vertical-align: top;\n",
              "    }\n",
              "\n",
              "    .dataframe thead th {\n",
              "        text-align: right;\n",
              "    }\n",
              "</style>\n",
              "<table border=\"1\" class=\"dataframe\">\n",
              "  <thead>\n",
              "    <tr style=\"text-align: right;\">\n",
              "      <th></th>\n",
              "      <th>SL No.</th>\n",
              "    </tr>\n",
              "    <tr>\n",
              "      <th>State/UT Name</th>\n",
              "      <th></th>\n",
              "    </tr>\n",
              "  </thead>\n",
              "  <tbody>\n",
              "    <tr>\n",
              "      <th>West Bengal</th>\n",
              "      <td>70</td>\n",
              "    </tr>\n",
              "    <tr>\n",
              "      <th>Jharkhand</th>\n",
              "      <td>114</td>\n",
              "    </tr>\n",
              "    <tr>\n",
              "      <th>Uttar Pradesh</th>\n",
              "      <td>5</td>\n",
              "    </tr>\n",
              "    <tr>\n",
              "      <th>Maharashtra</th>\n",
              "      <td>54</td>\n",
              "    </tr>\n",
              "    <tr>\n",
              "      <th>Madhya Pradesh</th>\n",
              "      <td>56</td>\n",
              "    </tr>\n",
              "    <tr>\n",
              "      <th>Chhattisgarh</th>\n",
              "      <td>52</td>\n",
              "    </tr>\n",
              "    <tr>\n",
              "      <th>Orissa</th>\n",
              "      <td>29</td>\n",
              "    </tr>\n",
              "    <tr>\n",
              "      <th>Assam</th>\n",
              "      <td>3</td>\n",
              "    </tr>\n",
              "    <tr>\n",
              "      <th>Tamil Nadu</th>\n",
              "      <td>3</td>\n",
              "    </tr>\n",
              "    <tr>\n",
              "      <th>Gujarat</th>\n",
              "      <td>9</td>\n",
              "    </tr>\n",
              "    <tr>\n",
              "      <th>Rajasthan</th>\n",
              "      <td>7</td>\n",
              "    </tr>\n",
              "    <tr>\n",
              "      <th>Telangana</th>\n",
              "      <td>57</td>\n",
              "    </tr>\n",
              "  </tbody>\n",
              "</table>\n",
              "</div>"
            ],
            "text/plain": [
              "                SL No.\n",
              "State/UT Name         \n",
              "West Bengal         70\n",
              "Jharkhand          114\n",
              "Uttar Pradesh        5\n",
              "Maharashtra         54\n",
              "Madhya Pradesh      56\n",
              "Chhattisgarh        52\n",
              "Orissa              29\n",
              "Assam                3\n",
              "Tamil Nadu           3\n",
              "Gujarat              9\n",
              "Rajasthan            7\n",
              "Telangana           57"
            ]
          },
          "metadata": {
            "tags": []
          },
          "execution_count": 264
        }
      ]
    },
    {
      "cell_type": "code",
      "metadata": {
        "colab": {
          "base_uri": "https://localhost:8080/"
        },
        "id": "e3fiLICo5CXo",
        "outputId": "acca1f36-4734-4f60-bad4-b388271d7b2d"
      },
      "source": [
        "stateSLNoSumList = stateSLNoSum['SL No.'].tolist()\n",
        "stateSLNoSumList"
      ],
      "execution_count": 265,
      "outputs": [
        {
          "output_type": "execute_result",
          "data": {
            "text/plain": [
              "[70, 114, 5, 54, 56, 52, 29, 3, 3, 9, 7, 57]"
            ]
          },
          "metadata": {
            "tags": []
          },
          "execution_count": 265
        }
      ]
    },
    {
      "cell_type": "code",
      "metadata": {
        "colab": {
          "base_uri": "https://localhost:8080/",
          "height": 452
        },
        "id": "gM-X81Veusmk",
        "outputId": "4ef8837d-b9e1-4a75-be81-fb060cad7bb1"
      },
      "source": [
        "coalSum = df.groupby(['State/UT Name'], sort=False)[['Coal/ Lignite Production (MT) (2019-2020)']].sum()\n",
        "coalSum"
      ],
      "execution_count": 266,
      "outputs": [
        {
          "output_type": "execute_result",
          "data": {
            "text/html": [
              "<div>\n",
              "<style scoped>\n",
              "    .dataframe tbody tr th:only-of-type {\n",
              "        vertical-align: middle;\n",
              "    }\n",
              "\n",
              "    .dataframe tbody tr th {\n",
              "        vertical-align: top;\n",
              "    }\n",
              "\n",
              "    .dataframe thead th {\n",
              "        text-align: right;\n",
              "    }\n",
              "</style>\n",
              "<table border=\"1\" class=\"dataframe\">\n",
              "  <thead>\n",
              "    <tr style=\"text-align: right;\">\n",
              "      <th></th>\n",
              "      <th>Coal/ Lignite Production (MT) (2019-2020)</th>\n",
              "    </tr>\n",
              "    <tr>\n",
              "      <th>State/UT Name</th>\n",
              "      <th></th>\n",
              "    </tr>\n",
              "  </thead>\n",
              "  <tbody>\n",
              "    <tr>\n",
              "      <th>West Bengal</th>\n",
              "      <td>31.997000</td>\n",
              "    </tr>\n",
              "    <tr>\n",
              "      <th>Jharkhand</th>\n",
              "      <td>134.301000</td>\n",
              "    </tr>\n",
              "    <tr>\n",
              "      <th>Uttar Pradesh</th>\n",
              "      <td>47.360000</td>\n",
              "    </tr>\n",
              "    <tr>\n",
              "      <th>Maharashtra</th>\n",
              "      <td>54.774040</td>\n",
              "    </tr>\n",
              "    <tr>\n",
              "      <th>Madhya Pradesh</th>\n",
              "      <td>96.672000</td>\n",
              "    </tr>\n",
              "    <tr>\n",
              "      <th>Chhattisgarh</th>\n",
              "      <td>157.241000</td>\n",
              "    </tr>\n",
              "    <tr>\n",
              "      <th>Orissa</th>\n",
              "      <td>142.167020</td>\n",
              "    </tr>\n",
              "    <tr>\n",
              "      <th>Assam</th>\n",
              "      <td>0.520000</td>\n",
              "    </tr>\n",
              "    <tr>\n",
              "      <th>Tamil Nadu</th>\n",
              "      <td>23.460000</td>\n",
              "    </tr>\n",
              "    <tr>\n",
              "      <th>Gujarat</th>\n",
              "      <td>11.060000</td>\n",
              "    </tr>\n",
              "    <tr>\n",
              "      <th>Rajasthan</th>\n",
              "      <td>8.200000</td>\n",
              "    </tr>\n",
              "    <tr>\n",
              "      <th>Telangana</th>\n",
              "      <td>65.717979</td>\n",
              "    </tr>\n",
              "  </tbody>\n",
              "</table>\n",
              "</div>"
            ],
            "text/plain": [
              "                Coal/ Lignite Production (MT) (2019-2020)\n",
              "State/UT Name                                            \n",
              "West Bengal                                     31.997000\n",
              "Jharkhand                                      134.301000\n",
              "Uttar Pradesh                                   47.360000\n",
              "Maharashtra                                     54.774040\n",
              "Madhya Pradesh                                  96.672000\n",
              "Chhattisgarh                                   157.241000\n",
              "Orissa                                         142.167020\n",
              "Assam                                            0.520000\n",
              "Tamil Nadu                                      23.460000\n",
              "Gujarat                                         11.060000\n",
              "Rajasthan                                        8.200000\n",
              "Telangana                                       65.717979"
            ]
          },
          "metadata": {
            "tags": []
          },
          "execution_count": 266
        }
      ]
    },
    {
      "cell_type": "code",
      "metadata": {
        "colab": {
          "base_uri": "https://localhost:8080/"
        },
        "id": "vb2lzy8y4c16",
        "outputId": "108a4eba-ecc5-48a5-e1a0-fd8d0c227eda"
      },
      "source": [
        "coalSumList = coalSum['Coal/ Lignite Production (MT) (2019-2020)'].tolist()\n",
        "coalSumList"
      ],
      "execution_count": 269,
      "outputs": [
        {
          "output_type": "execute_result",
          "data": {
            "text/plain": [
              "[31.996999999999993,\n",
              " 134.30099999999996,\n",
              " 47.36,\n",
              " 54.774039999999985,\n",
              " 96.67199999999998,\n",
              " 157.241,\n",
              " 142.16702000000004,\n",
              " 0.52,\n",
              " 23.46,\n",
              " 11.06,\n",
              " 8.200000000000001,\n",
              " 65.71797900000003]"
            ]
          },
          "metadata": {
            "tags": []
          },
          "execution_count": 269
        }
      ]
    },
    {
      "cell_type": "code",
      "metadata": {
        "colab": {
          "base_uri": "https://localhost:8080/"
        },
        "id": "LKw5l53VKBQm",
        "outputId": "9eb718c5-5b36-42a7-bfab-a4c48cd07d37"
      },
      "source": [
        "stateList = df['State/UT Name'].unique().tolist()\n",
        "stateList"
      ],
      "execution_count": 267,
      "outputs": [
        {
          "output_type": "execute_result",
          "data": {
            "text/plain": [
              "['West Bengal',\n",
              " 'Jharkhand ',\n",
              " 'Uttar Pradesh',\n",
              " 'Maharashtra ',\n",
              " 'Madhya Pradesh',\n",
              " 'Chhattisgarh',\n",
              " 'Orissa',\n",
              " 'Assam',\n",
              " 'Tamil Nadu',\n",
              " 'Gujarat',\n",
              " 'Rajasthan',\n",
              " 'Telangana ']"
            ]
          },
          "metadata": {
            "tags": []
          },
          "execution_count": 267
        }
      ]
    },
    {
      "cell_type": "code",
      "metadata": {
        "colab": {
          "base_uri": "https://localhost:8080/",
          "height": 422
        },
        "id": "iIcOkENl4GTl",
        "outputId": "7dac1f0b-dd28-4c8e-b33b-97d61b1df7a1"
      },
      "source": [
        "sns.barplot(stateList, stateSLNoSumList)\n",
        "plt.xticks(rotation=45)\n",
        "plt.xlabel('State/UT Name')\n",
        "plt.ylabel('Number of Mines')\n",
        "plt.title('Indian Coal Mines Dataset January 2')"
      ],
      "execution_count": 271,
      "outputs": [
        {
          "output_type": "stream",
          "text": [
            "/usr/local/lib/python3.7/dist-packages/seaborn/_decorators.py:43: FutureWarning: Pass the following variables as keyword args: x, y. From version 0.12, the only valid positional argument will be `data`, and passing other arguments without an explicit keyword will result in an error or misinterpretation.\n",
            "  FutureWarning\n"
          ],
          "name": "stderr"
        },
        {
          "output_type": "execute_result",
          "data": {
            "text/plain": [
              "Text(0.5, 1.0, 'Indian Coal Mines Dataset January 2')"
            ]
          },
          "metadata": {
            "tags": []
          },
          "execution_count": 271
        },
        {
          "output_type": "display_data",
          "data": {
            "image/png": "[encoded data removed]",
            "text/plain": [
              "<Figure size 432x288 with 1 Axes>"
            ]
          },
          "metadata": {
            "tags": [],
            "needs_background": "light"
          }
        }
      ]
    },
    {
      "cell_type": "code",
      "metadata": {
        "colab": {
          "base_uri": "https://localhost:8080/",
          "height": 422
        },
        "id": "rDNmEacKLqa-",
        "outputId": "10ae11a4-d9ae-4444-8695-f38f0037902d"
      },
      "source": [
        "sns.barplot(stateList, coalSumList)\n",
        "plt.xticks(rotation=45)\n",
        "plt.xlabel('State/UT Name')\n",
        "plt.ylabel('Coal/ Lignite Production (MT) (2019-2020)')\n",
        "plt.title('Indian Coal Mines Dataset January 2')"
      ],
      "execution_count": 272,
      "outputs": [
        {
          "output_type": "stream",
          "text": [
            "/usr/local/lib/python3.7/dist-packages/seaborn/_decorators.py:43: FutureWarning: Pass the following variables as keyword args: x, y. From version 0.12, the only valid positional argument will be `data`, and passing other arguments without an explicit keyword will result in an error or misinterpretation.\n",
            "  FutureWarning\n"
          ],
          "name": "stderr"
        },
        {
          "output_type": "execute_result",
          "data": {
            "text/plain": [
              "Text(0.5, 1.0, 'Indian Coal Mines Dataset January 2')"
            ]
          },
          "metadata": {
            "tags": []
          },
          "execution_count": 272
        },
        {
          "output_type": "display_data",
          "data": {
            "image/png": "[encoded data removed]",
            "text/plain": [
              "<Figure size 432x288 with 1 Axes>"
            ]
          },
          "metadata": {
            "tags": [],
            "needs_background": "light"
          }
        }
      ]
    },
    {
      "cell_type": "code",
      "metadata": {
        "colab": {
          "base_uri": "https://localhost:8080/",
          "height": 315
        },
        "id": "aIALiB3MvCmz",
        "outputId": "f8039cfe-9b1f-4c13-efc5-1780d97ca7ab"
      },
      "source": [
        "x = np.arange(len(stateList))\n",
        "width = 0.35\n",
        "plt.bar(x - width / 2, stateSLNoSumList, width, label = 'Mines')\n",
        "plt.bar(x + width / 2, coalSumList, width, label = 'Coal Production')\n",
        "plt.xticks(stateList, rotation=90)\n",
        "plt.xlabel('State/UT Name')\n",
        "plt.ylabel('Number of')\n",
        "plt.title('Indian Coal Mines Dataset January 2021')\n",
        "plt.legend()"
      ],
      "execution_count": 273,
      "outputs": [
        {
          "output_type": "execute_result",
          "data": {
            "text/plain": [
              "<matplotlib.legend.Legend at 0x7f42d4b66fd0>"
            ]
          },
          "metadata": {
            "tags": []
          },
          "execution_count": 273
        },
        {
          "output_type": "display_data",
          "data": {
            "image/png": "[encoded data removed]",
            "text/plain": [
              "<Figure size 432x288 with 1 Axes>"
            ]
          },
          "metadata": {
            "tags": [],
            "needs_background": "light"
          }
        }
      ]
    },
    {
      "cell_type": "code",
      "metadata": {
        "id": "exFz2gFRwW17"
      },
      "source": [
        ""
      ],
      "execution_count": 236,
      "outputs": []
    }
  ]
}
